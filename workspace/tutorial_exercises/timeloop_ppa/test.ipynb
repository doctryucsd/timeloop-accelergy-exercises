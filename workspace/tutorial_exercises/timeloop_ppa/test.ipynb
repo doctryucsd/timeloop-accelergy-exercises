{
 "cells": [
  {
   "cell_type": "code",
   "execution_count": 17,
   "metadata": {},
   "outputs": [],
   "source": [
    "# Set up imports\n",
    "import os\n",
    "import timeloopfe.v4 as tl\n",
    "\n",
    "# Define relative paths\n",
    "ARCH_PATH = f\"{os.curdir}/inputs/arch.yaml\"\n",
    "COMPONENTS_PATH = f\"{os.curdir}/inputs/components.yaml\"\n",
    "PROBLEM_PATH = f\"{os.curdir}/inputs/problem.yaml\"\n",
    "MAPPER_PATH = f\"{os.curdir}/inputs/mapper.yaml\"\n",
    "VARIABLES_PATH = f\"{os.curdir}/inputs/variables.yaml\"\n",
    "TOP_PATH = f\"{os.curdir}/top.yaml.jinja\"\n",
    "\n",
    "def main():\n",
    "    # Set up the specification\n",
    "    spec = tl.Specification.from_yaml_files(TOP_PATH)\n",
    "    print(dict(spec.problem))"
   ]
  },
  {
   "cell_type": "code",
   "execution_count": 18,
   "metadata": {},
   "outputs": [
    {
     "name": "stdout",
     "output_type": "stream",
     "text": [
      "{'version': '0.4', 'instance': {'C': 128, 'G': 1, 'H': 1, 'Hdilation': 1, 'Hpad': 0, 'Hstride': 1, 'M': 128, 'N': 32, 'P': 128, 'Q': 128, 'R': 1, 'S': 1, 'W': 1, 'Wdilation': 1, 'Wpad': 0, 'Wstride': 1, 'densities': {}}, 'shape': {'coefficients': [{'name': 'Wstride', 'default': 1}, {'name': 'Hstride', 'default': 1}, {'name': 'Wdilation', 'default': 1}, {'name': 'Hdilation', 'default': 1}], 'data_spaces': [{'name': 'Weights', 'projection': [[['C']], [['M']], [['R']], [['S']], [['G']]], 'read_write': False}, {'name': 'Inputs', 'projection': [[['N']], [['C']], [['R', 'Wdilation'], ['P', 'Wstride']], [['S', 'Hdilation'], ['Q', 'Hstride']], [['G']]], 'read_write': False}, {'name': 'Outputs', 'projection': [[['N']], [['M']], [['Q']], [['P']], [['G']]], 'read_write': True}], 'dimensions': ['C', 'M', 'R', 'S', 'N', 'P', 'Q', 'G'], 'name': ''}}\n"
     ]
    }
   ],
   "source": [
    "main()"
   ]
  }
 ],
 "metadata": {
  "kernelspec": {
   "display_name": "Python 3",
   "language": "python",
   "name": "python3"
  },
  "language_info": {
   "codemirror_mode": {
    "name": "ipython",
    "version": 3
   },
   "file_extension": ".py",
   "mimetype": "text/x-python",
   "name": "python",
   "nbconvert_exporter": "python",
   "pygments_lexer": "ipython3",
   "version": "3.8.10"
  }
 },
 "nbformat": 4,
 "nbformat_minor": 2
}
